{
 "cells": [
  {
   "cell_type": "code",
   "execution_count": 9,
   "metadata": {},
   "outputs": [],
   "source": [
    "import requests\n",
    "import json"
   ]
  },
  {
   "cell_type": "code",
   "execution_count": 12,
   "metadata": {},
   "outputs": [],
   "source": [
    "response = requests.get(\"https://marketplace-api.sshopencloud.eu/api/publications?approved=true\")\n",
    "all_data = response.json()"
   ]
  },
  {
   "cell_type": "code",
   "execution_count": 37,
   "metadata": {},
   "outputs": [
    {
     "name": "stdout",
     "output_type": "stream",
     "text": [
      "1\n",
      "2\n",
      "3\n",
      "4\n",
      "5\n",
      "6\n",
      "7\n",
      "8\n",
      "9\n",
      "10\n",
      "11\n",
      "12\n",
      "13\n",
      "14\n",
      "15\n",
      "16\n",
      "17\n",
      "18\n",
      "19\n",
      "20\n",
      "21\n",
      "22\n",
      "23\n",
      "24\n",
      "25\n",
      "26\n",
      "27\n",
      "28\n",
      "29\n",
      "30\n"
     ]
    }
   ],
   "source": [
    "n = 31\n",
    "list_label = []\n",
    "list_desc = []\n",
    "for i in range(1, n):\n",
    "        print(i) #get to know where it goes\n",
    "        requete = \"https://marketplace-api.sshopencloud.eu/api/publications?page={}&perpage=100&approved=true\".format(i) #allows to crawl through the different pages\n",
    "        response = requests.get(requete)\n",
    "        data = response.json()\n",
    "        i += 1\n",
    "        for j in data[\"publications\"]:\n",
    "            list_label.append(j[\"label\"])\n",
    "        for k in data[\"publications\"]:\n",
    "            list_desc.append(j[\"description\"])"
   ]
  },
  {
   "cell_type": "code",
   "execution_count": 38,
   "metadata": {},
   "outputs": [],
   "source": [
    "with open('label.txt', 'w') as f: #write list of content in file for analysis\n",
    "    for item in list_label:\n",
    "        f.write(\"%s\\n\" % item)"
   ]
  }
 ],
 "metadata": {
  "kernelspec": {
   "display_name": "Python 3",
   "language": "python",
   "name": "python3"
  },
  "language_info": {
   "codemirror_mode": {
    "name": "ipython",
    "version": 3
   },
   "file_extension": ".py",
   "mimetype": "text/x-python",
   "name": "python",
   "nbconvert_exporter": "python",
   "pygments_lexer": "ipython3",
   "version": "3.8.10"
  }
 },
 "nbformat": 4,
 "nbformat_minor": 4
}
